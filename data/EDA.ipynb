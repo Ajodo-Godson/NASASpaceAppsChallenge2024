{
 "cells": [
  {
   "cell_type": "code",
   "execution_count": 10,
   "id": "679198f8-9293-4e6b-a0e1-4a62a70fb542",
   "metadata": {},
   "outputs": [
    {
     "name": "stdout",
     "output_type": "stream",
     "text": [
      "Defaulting to user installation because normal site-packages is not writeable\n",
      "Requirement already satisfied: requests in /Users/godsonajodo/Library/Python/3.9/lib/python/site-packages (2.32.3)\n",
      "Requirement already satisfied: folium in /Users/godsonajodo/Library/Python/3.9/lib/python/site-packages (0.17.0)\n",
      "Requirement already satisfied: branca in /Users/godsonajodo/Library/Python/3.9/lib/python/site-packages (0.8.0)\n",
      "Requirement already satisfied: pystac_client in /Users/godsonajodo/Library/Python/3.9/lib/python/site-packages (0.8.3)\n",
      "Requirement already satisfied: pandas in /Users/godsonajodo/Library/Python/3.9/lib/python/site-packages (2.2.3)\n",
      "Collecting matplotlib\n",
      "  Downloading matplotlib-3.9.2-cp39-cp39-macosx_11_0_arm64.whl.metadata (11 kB)\n",
      "Requirement already satisfied: charset-normalizer<4,>=2 in /Users/godsonajodo/Library/Python/3.9/lib/python/site-packages (from requests) (3.3.2)\n",
      "Requirement already satisfied: idna<4,>=2.5 in /Users/godsonajodo/Library/Python/3.9/lib/python/site-packages (from requests) (3.10)\n",
      "Requirement already satisfied: urllib3<3,>=1.21.1 in /Users/godsonajodo/Library/Python/3.9/lib/python/site-packages (from requests) (2.2.3)\n",
      "Requirement already satisfied: certifi>=2017.4.17 in /Users/godsonajodo/Library/Python/3.9/lib/python/site-packages (from requests) (2024.8.30)\n",
      "Requirement already satisfied: jinja2>=2.9 in /Users/godsonajodo/Library/Python/3.9/lib/python/site-packages (from folium) (3.1.4)\n",
      "Requirement already satisfied: numpy in /Users/godsonajodo/Library/Python/3.9/lib/python/site-packages (from folium) (2.0.2)\n",
      "Requirement already satisfied: xyzservices in /Users/godsonajodo/Library/Python/3.9/lib/python/site-packages (from folium) (2024.9.0)\n",
      "Requirement already satisfied: pystac>=1.10.0 in /Users/godsonajodo/Library/Python/3.9/lib/python/site-packages (from pystac[validation]>=1.10.0->pystac_client) (1.10.1)\n",
      "Requirement already satisfied: python-dateutil>=2.8.2 in /Users/godsonajodo/Library/Python/3.9/lib/python/site-packages (from pystac_client) (2.9.0.post0)\n",
      "Requirement already satisfied: pytz>=2020.1 in /Users/godsonajodo/Library/Python/3.9/lib/python/site-packages (from pandas) (2024.2)\n",
      "Requirement already satisfied: tzdata>=2022.7 in /Users/godsonajodo/Library/Python/3.9/lib/python/site-packages (from pandas) (2024.2)\n",
      "Collecting contourpy>=1.0.1 (from matplotlib)\n",
      "  Downloading contourpy-1.3.0-cp39-cp39-macosx_11_0_arm64.whl.metadata (5.4 kB)\n",
      "Collecting cycler>=0.10 (from matplotlib)\n",
      "  Downloading cycler-0.12.1-py3-none-any.whl.metadata (3.8 kB)\n",
      "Collecting fonttools>=4.22.0 (from matplotlib)\n",
      "  Downloading fonttools-4.54.1-cp39-cp39-macosx_11_0_arm64.whl.metadata (163 kB)\n",
      "Collecting kiwisolver>=1.3.1 (from matplotlib)\n",
      "  Downloading kiwisolver-1.4.7-cp39-cp39-macosx_11_0_arm64.whl.metadata (6.3 kB)\n",
      "Requirement already satisfied: packaging>=20.0 in /Users/godsonajodo/Library/Python/3.9/lib/python/site-packages (from matplotlib) (24.1)\n",
      "Requirement already satisfied: pillow>=8 in /Users/godsonajodo/Library/Python/3.9/lib/python/site-packages (from matplotlib) (10.4.0)\n",
      "Collecting pyparsing>=2.3.1 (from matplotlib)\n",
      "  Downloading pyparsing-3.1.4-py3-none-any.whl.metadata (5.1 kB)\n",
      "Collecting importlib-resources>=3.2.0 (from matplotlib)\n",
      "  Downloading importlib_resources-6.4.5-py3-none-any.whl.metadata (4.0 kB)\n",
      "Requirement already satisfied: zipp>=3.1.0 in /Users/godsonajodo/Library/Python/3.9/lib/python/site-packages (from importlib-resources>=3.2.0->matplotlib) (3.20.2)\n",
      "Requirement already satisfied: MarkupSafe>=2.0 in /Users/godsonajodo/Library/Python/3.9/lib/python/site-packages (from jinja2>=2.9->folium) (2.1.5)\n",
      "Requirement already satisfied: jsonschema~=4.18 in /Users/godsonajodo/Library/Python/3.9/lib/python/site-packages (from pystac[validation]>=1.10.0->pystac_client) (4.23.0)\n",
      "Requirement already satisfied: six>=1.5 in /Library/Developer/CommandLineTools/Library/Frameworks/Python3.framework/Versions/3.9/lib/python3.9/site-packages (from python-dateutil>=2.8.2->pystac_client) (1.15.0)\n",
      "Requirement already satisfied: attrs>=22.2.0 in /Users/godsonajodo/Library/Python/3.9/lib/python/site-packages (from jsonschema~=4.18->pystac[validation]>=1.10.0->pystac_client) (24.2.0)\n",
      "Requirement already satisfied: jsonschema-specifications>=2023.03.6 in /Users/godsonajodo/Library/Python/3.9/lib/python/site-packages (from jsonschema~=4.18->pystac[validation]>=1.10.0->pystac_client) (2023.12.1)\n",
      "Requirement already satisfied: referencing>=0.28.4 in /Users/godsonajodo/Library/Python/3.9/lib/python/site-packages (from jsonschema~=4.18->pystac[validation]>=1.10.0->pystac_client) (0.35.1)\n",
      "Requirement already satisfied: rpds-py>=0.7.1 in /Users/godsonajodo/Library/Python/3.9/lib/python/site-packages (from jsonschema~=4.18->pystac[validation]>=1.10.0->pystac_client) (0.20.0)\n",
      "Downloading matplotlib-3.9.2-cp39-cp39-macosx_11_0_arm64.whl (7.8 MB)\n",
      "\u001b[2K   \u001b[90m━━━━━━━━━━━━━━━━━━━━━━━━━━━━━━━━━━━━━━━━\u001b[0m \u001b[32m7.8/7.8 MB\u001b[0m \u001b[31m29.6 MB/s\u001b[0m eta \u001b[36m0:00:00\u001b[0ma \u001b[36m0:00:01\u001b[0m\n",
      "\u001b[?25hDownloading contourpy-1.3.0-cp39-cp39-macosx_11_0_arm64.whl (249 kB)\n",
      "Downloading cycler-0.12.1-py3-none-any.whl (8.3 kB)\n",
      "Downloading fonttools-4.54.1-cp39-cp39-macosx_11_0_arm64.whl (2.3 MB)\n",
      "\u001b[2K   \u001b[90m━━━━━━━━━━━━━━━━━━━━━━━━━━━━━━━━━━━━━━━━\u001b[0m \u001b[32m2.3/2.3 MB\u001b[0m \u001b[31m29.0 MB/s\u001b[0m eta \u001b[36m0:00:00\u001b[0m\n",
      "\u001b[?25hDownloading importlib_resources-6.4.5-py3-none-any.whl (36 kB)\n",
      "Downloading kiwisolver-1.4.7-cp39-cp39-macosx_11_0_arm64.whl (64 kB)\n",
      "Downloading pyparsing-3.1.4-py3-none-any.whl (104 kB)\n",
      "Installing collected packages: pyparsing, kiwisolver, importlib-resources, fonttools, cycler, contourpy, matplotlib\n",
      "Successfully installed contourpy-1.3.0 cycler-0.12.1 fonttools-4.54.1 importlib-resources-6.4.5 kiwisolver-1.4.7 matplotlib-3.9.2 pyparsing-3.1.4\n",
      "Note: you may need to restart the kernel to use updated packages.\n"
     ]
    }
   ],
   "source": [
    "%pip install requests folium branca pystac_client pandas matplotlib"
   ]
  },
  {
   "cell_type": "code",
   "execution_count": 11,
   "id": "06b9f453",
   "metadata": {},
   "outputs": [
    {
     "name": "stderr",
     "output_type": "stream",
     "text": [
      "Matplotlib is building the font cache; this may take a moment.\n"
     ]
    }
   ],
   "source": [
    "import requests\n",
    "import folium\n",
    "import folium.plugins\n",
    "from folium import Map, TileLayer\n",
    "from pystac_client import Client\n",
    "import branca\n",
    "import pandas as pd\n",
    "import matplotlib.pyplot as plt"
   ]
  },
  {
   "cell_type": "code",
   "execution_count": 12,
   "id": "12b50eb1",
   "metadata": {},
   "outputs": [],
   "source": [
    "\n",
    "# The STAC API is a catalog of all the existing data collections that are stored in the GHG Center.\n",
    "STAC_API_URL = \"https://earth.gov/ghgcenter/api/stac\"\n",
    "\n",
    "# The RASTER API is used to fetch collections for visualization\n",
    "RASTER_API_URL = \"https://earth.gov/ghgcenter/api/raster\"\n",
    "\n",
    "# Name of the collection for SEDAC population density dataset \n",
    "collection_name = \"sedac-popdensity-yeargrid5yr-v4.11\""
   ]
  },
  {
   "cell_type": "code",
   "execution_count": 13,
   "id": "d545993b",
   "metadata": {},
   "outputs": [
    {
     "data": {
      "text/plain": [
       "{'id': 'sedac-popdensity-yeargrid5yr-v4.11',\n",
       " 'type': 'Collection',\n",
       " 'links': [{'rel': 'items',\n",
       "   'type': 'application/geo+json',\n",
       "   'href': 'https://earth.gov/ghgcenter/api/stac/collections/sedac-popdensity-yeargrid5yr-v4.11/items'},\n",
       "  {'rel': 'parent',\n",
       "   'type': 'application/json',\n",
       "   'href': 'https://earth.gov/ghgcenter/api/stac/'},\n",
       "  {'rel': 'root',\n",
       "   'type': 'application/json',\n",
       "   'href': 'https://earth.gov/ghgcenter/api/stac/'},\n",
       "  {'rel': 'self',\n",
       "   'type': 'application/json',\n",
       "   'href': 'https://earth.gov/ghgcenter/api/stac/collections/sedac-popdensity-yeargrid5yr-v4.11'}],\n",
       " 'title': 'SEDAC Gridded World Population Density v4.11',\n",
       " 'extent': {'spatial': {'bbox': [[-180.0, -90.0, 180.0, 90.0]]},\n",
       "  'temporal': {'interval': [['2000-01-01T00:00:00+00:00',\n",
       "     '2020-12-31T00:00:00+00:00']]}},\n",
       " 'license': 'CC-BY-4.0',\n",
       " 'renders': {'dashboard': {'assets': ['population-density'],\n",
       "   'nodata': -3.402823e+38,\n",
       "   'rescale': [[0, 1000]],\n",
       "   'colormap_name': 'ylorrd'},\n",
       "  'population-density': {'assets': ['population-density'],\n",
       "   'nodata': -3.402823e+38,\n",
       "   'rescale': [[0, 1000]],\n",
       "   'colormap_name': 'ylorrd'}},\n",
       " 'summaries': {'datetime': ['2000-01-01T00:00:00Z',\n",
       "   '2005-01-01T00:00:00Z',\n",
       "   '2010-01-01T00:00:00Z',\n",
       "   '2015-01-01T00:00:00Z',\n",
       "   '2020-01-01T00:00:00Z']},\n",
       " 'description': 'The Socioeconomic Data and Applications Center (SEDAC) Gridded Population of the World (GPW), version 4, revision 11 dataset contains a Population Density product that provides estimates of population density (number of persons per square kilometer (persons/km²)) at five year intervals for the years 2000, 2005, 2010, 2015, and 2020 on a 30 arc-second (~1 km at the equator) grid. The dataset can be used for assessing disaster impacts, risk mapping, and any other applications that include a human dimension. The source dataset can be found at https://doi.org/10.7927/H49C6VHW',\n",
       " 'item_assets': {'population_density': {'type': 'image/tiff; application=geotiff; profile=cloud-optimized',\n",
       "   'roles': ['data', 'layer'],\n",
       "   'title': 'Population Density',\n",
       "   'description': 'Gridded population density estimates for the years 2000, 2005, 2010, 2015, and 2020 from Gridded Population of the World (GPW) version 4, revision 11.'}},\n",
       " 'stac_version': '1.0.0',\n",
       " 'stac_extensions': ['https://stac-extensions.github.io/render/v1.0.0/schema.json',\n",
       "  'https://stac-extensions.github.io/item-assets/v1.0.0/schema.json'],\n",
       " 'dashboard:is_periodic': False,\n",
       " 'dashboard:time_density': 'year'}"
      ]
     },
     "execution_count": 13,
     "metadata": {},
     "output_type": "execute_result"
    }
   ],
   "source": [
    "\n",
    "collection = requests.get(f\"{STAC_API_URL}/collections/{collection_name}\").json()\n",
    "\n",
    "\n",
    "collection"
   ]
  },
  {
   "cell_type": "code",
   "execution_count": 14,
   "id": "942362d3",
   "metadata": {},
   "outputs": [],
   "source": [
    "# Function to search for a data collection in the US GHG Center STAC API\n",
    "# The argument that will be passed through the defined function = \"collection_id\"\n",
    "def get_item_count(collection_id):\n",
    "\n",
    "    # Set a counter for the number of items existing in the collection\n",
    "    count = 0\n",
    "\n",
    "    # Define the path to retrieve the granules (items) of the collection of interest in the STAC API\n",
    "    items_url = f\"{STAC_API_URL}/collections/{collection_id}/items\"\n",
    "\n",
    "    # While loop to make HTTP requests until there are no more URLs associated with the collection in the STAC API\n",
    "    while True:\n",
    "\n",
    "        response = requests.get(items_url)\n",
    "        if not response.ok:\n",
    "            print(\"error getting items\")\n",
    "            exit()\n",
    "\n",
    "        stac = response.json()\n",
    "\n",
    "        count += int(stac[\"context\"].get(\"returned\", 0))\n",
    "\n",
    "        # Retrieve information about the next URL associated with the collection in the STAC API (if applicable)\n",
    "        next = [link for link in stac[\"links\"] if link[\"rel\"] == \"next\"]\n",
    "\n",
    "        if not next:\n",
    "            break\n",
    "        \n",
    "        # Ensure the information gathered by other STAC API links associated with the collection are added to the original path\n",
    "        # \"href\" is the identifier for each of the tiles stored in the STAC API\n",
    "        items_url = next[0][\"href\"]\n",
    "    return count"
   ]
  },
  {
   "cell_type": "code",
   "execution_count": 15,
   "id": "e8f9e427",
   "metadata": {},
   "outputs": [
    {
     "name": "stdout",
     "output_type": "stream",
     "text": [
      "Found 5 items\n"
     ]
    }
   ],
   "source": [
    "number_of_items = get_item_count(collection_name)\n",
    "\n",
    "# Get the information about the number of granules found in the collection\n",
    "items = requests.get(f\"{STAC_API_URL}/collections/{collection_name}/items?limit={number_of_items}\").json()[\"features\"]\n",
    "\n",
    "print(f\"Found {len(items)} items\")"
   ]
  },
  {
   "cell_type": "code",
   "execution_count": 16,
   "id": "bdf89c4a",
   "metadata": {},
   "outputs": [
    {
     "data": {
      "text/plain": [
       "{'id': 'sedac-popdensity-yeargrid5yr-v4.11-2020',\n",
       " 'bbox': [-180.0, -90.0, 179.99999999999983, 89.99999999999991],\n",
       " 'type': 'Feature',\n",
       " 'links': [{'rel': 'collection',\n",
       "   'type': 'application/json',\n",
       "   'href': 'https://earth.gov/ghgcenter/api/stac/collections/sedac-popdensity-yeargrid5yr-v4.11'},\n",
       "  {'rel': 'parent',\n",
       "   'type': 'application/json',\n",
       "   'href': 'https://earth.gov/ghgcenter/api/stac/collections/sedac-popdensity-yeargrid5yr-v4.11'},\n",
       "  {'rel': 'root',\n",
       "   'type': 'application/json',\n",
       "   'href': 'https://earth.gov/ghgcenter/api/stac/'},\n",
       "  {'rel': 'self',\n",
       "   'type': 'application/geo+json',\n",
       "   'href': 'https://earth.gov/ghgcenter/api/stac/collections/sedac-popdensity-yeargrid5yr-v4.11/items/sedac-popdensity-yeargrid5yr-v4.11-2020'},\n",
       "  {'title': 'Map of Item',\n",
       "   'href': 'https://earth.gov/ghgcenter/api/raster/collections/sedac-popdensity-yeargrid5yr-v4.11/items/sedac-popdensity-yeargrid5yr-v4.11-2020/map?assets=population-density&nodata=-3.402823e%2B38&rescale=0%2C1000&colormap_name=ylorrd',\n",
       "   'rel': 'preview',\n",
       "   'type': 'text/html'}],\n",
       " 'assets': {'population-density': {'href': 's3://ghgc-data-store/sedac-popdensity-yeargrid5yr-v4.11/gpw_v4_population_density_rev11_2020_30_sec_2020.tif',\n",
       "   'proj:bbox': [-180.0, -90.0, 179.99999999999983, 89.99999999999991],\n",
       "   'proj:epsg': 4326.0,\n",
       "   'proj:shape': [21600.0, 43200.0],\n",
       "   'raster:bands': [{'scale': 1.0,\n",
       "     'nodata': -3.4028230607370965e+38,\n",
       "     'offset': 0.0,\n",
       "     'sampling': 'area',\n",
       "     'data_type': 'float32',\n",
       "     'histogram': {'max': 30795.859375,\n",
       "      'min': -1505.7174072265625,\n",
       "      'count': 11.0,\n",
       "      'buckets': [129008.0, 362.0, 52.0, 22.0, 7.0, 2.0, 2.0, 0.0, 1.0, 1.0]},\n",
       "     'statistics': {'mean': 55.30964721876762,\n",
       "      'stddev': 319.5376065398882,\n",
       "      'maximum': 30795.859375,\n",
       "      'minimum': -1505.7174072265625,\n",
       "      'valid_percent': 24.69196319580078}}],\n",
       "   'proj:geometry': {'type': 'Polygon',\n",
       "    'coordinates': [[[-180.0, -90.0],\n",
       "      [179.99999999999983, -90.0],\n",
       "      [179.99999999999983, 89.99999999999991],\n",
       "      [-180.0, 89.99999999999991],\n",
       "      [-180.0, -90.0]]]},\n",
       "   'proj:projjson': {'id': {'code': 4326.0, 'authority': 'EPSG'},\n",
       "    'name': 'WGS 84',\n",
       "    'type': 'GeographicCRS',\n",
       "    'datum': {'name': 'World Geodetic System 1984',\n",
       "     'type': 'GeodeticReferenceFrame',\n",
       "     'ellipsoid': {'name': 'WGS 84',\n",
       "      'semi_major_axis': 6378137.0,\n",
       "      'inverse_flattening': 298.257223563}},\n",
       "    '$schema': 'https://proj.org/schemas/v0.4/projjson.schema.json',\n",
       "    'coordinate_system': {'axis': [{'name': 'Geodetic latitude',\n",
       "       'unit': 'degree',\n",
       "       'direction': 'north',\n",
       "       'abbreviation': 'Lat'},\n",
       "      {'name': 'Geodetic longitude',\n",
       "       'unit': 'degree',\n",
       "       'direction': 'east',\n",
       "       'abbreviation': 'Lon'}],\n",
       "     'subtype': 'ellipsoidal'}},\n",
       "   'proj:transform': [0.00833333333333333,\n",
       "    0.0,\n",
       "    -180.0,\n",
       "    0.0,\n",
       "    -0.00833333333333333,\n",
       "    89.99999999999991,\n",
       "    0.0,\n",
       "    0.0,\n",
       "    1.0]},\n",
       "  'population_density': {'type': 'image/tiff; application=geotiff; profile=cloud-optimized',\n",
       "   'roles': ['data', 'layer'],\n",
       "   'title': 'Population Density',\n",
       "   'description': 'Gridded population density estimates for the years 2000, 2005, 2010, 2015, and 2020 from Gridded Population of the World (GPW) version 4, revision 11.'},\n",
       "  'rendered_preview': {'title': 'Rendered preview',\n",
       "   'href': 'https://earth.gov/ghgcenter/api/raster/collections/sedac-popdensity-yeargrid5yr-v4.11/items/sedac-popdensity-yeargrid5yr-v4.11-2020/preview.png?assets=population-density&nodata=-3.402823e%2B38&rescale=0%2C1000&colormap_name=ylorrd',\n",
       "   'rel': 'preview',\n",
       "   'roles': ['overview'],\n",
       "   'type': 'image/png'}},\n",
       " 'geometry': {'type': 'Polygon',\n",
       "  'coordinates': [[[-180, -90],\n",
       "    [179.99999999999983, -90],\n",
       "    [179.99999999999983, 89.99999999999991],\n",
       "    [-180, 89.99999999999991],\n",
       "    [-180, -90]]]},\n",
       " 'collection': 'sedac-popdensity-yeargrid5yr-v4.11',\n",
       " 'properties': {'end_datetime': '2020-12-31T00:00:00+00:00',\n",
       "  'start_datetime': '2020-01-01T00:00:00+00:00'},\n",
       " 'stac_version': '1.0.0',\n",
       " 'stac_extensions': []}"
      ]
     },
     "execution_count": 16,
     "metadata": {},
     "output_type": "execute_result"
    }
   ],
   "source": [
    "# Keep in mind that a list starts from 0, 1, 2... therefore items[0] is referring to the first item in the list/collection\n",
    "items[0]"
   ]
  },
  {
   "cell_type": "code",
   "execution_count": 17,
   "id": "8a06e325",
   "metadata": {},
   "outputs": [],
   "source": [
    "# Now we create a dictionary where the start datetime values for each granule is queried more explicitly by year and month (e.g., 2020-02)\n",
    "items = {item[\"properties\"][\"start_datetime\"][:7]: item for item in items} \n",
    "\n",
    "# Next, we need to specify the asset name for this collection\n",
    "# The asset name is referring to the raster band containing the pixel values for the parameter of interest\n",
    "# For the case of the SEDAC Gridded World Population Density collection, the parameter of interest is “population-density”\n",
    "asset_name = \"population-density\""
   ]
  },
  {
   "cell_type": "code",
   "execution_count": 18,
   "id": "b1673817",
   "metadata": {},
   "outputs": [],
   "source": [
    "# Fetching the min and max values\n",
    "rescale_values = {\"max\":items[list(items.keys())[0]][\"assets\"][asset_name][\"raster:bands\"][0][\"histogram\"][\"max\"], \"min\":items[list(items.keys())[0]][\"assets\"][asset_name][\"raster:bands\"][0][\"histogram\"][\"min\"]}"
   ]
  },
  {
   "cell_type": "code",
   "execution_count": 19,
   "id": "cce23d93",
   "metadata": {},
   "outputs": [
    {
     "data": {
      "text/plain": [
       "{'max': 30795.859375, 'min': -1505.7174072265625}"
      ]
     },
     "execution_count": 19,
     "metadata": {},
     "output_type": "execute_result"
    }
   ],
   "source": [
    "rescale_values"
   ]
  },
  {
   "cell_type": "code",
   "execution_count": 20,
   "id": "64474743",
   "metadata": {},
   "outputs": [
    {
     "data": {
      "text/plain": [
       "('sedac-popdensity-yeargrid5yr-v4.11',\n",
       " 'sedac-popdensity-yeargrid5yr-v4.11-2020')"
      ]
     },
     "execution_count": 20,
     "metadata": {},
     "output_type": "execute_result"
    }
   ],
   "source": [
    "items['2020-01']['collection'], items['2020-01']['id']"
   ]
  },
  {
   "cell_type": "code",
   "execution_count": 21,
   "id": "4f1444fb",
   "metadata": {},
   "outputs": [],
   "source": [
    "##Next to work on is using the RASTER_API to display the first observation. \n"
   ]
  },
  {
   "cell_type": "code",
   "execution_count": null,
   "id": "1a92a900",
   "metadata": {},
   "outputs": [],
   "source": []
  }
 ],
 "metadata": {
  "kernelspec": {
   "display_name": "Python 3 (ipykernel)",
   "language": "python",
   "name": "python3"
  },
  "language_info": {
   "codemirror_mode": {
    "name": "ipython",
    "version": 3
   },
   "file_extension": ".py",
   "mimetype": "text/x-python",
   "name": "python",
   "nbconvert_exporter": "python",
   "pygments_lexer": "ipython3",
   "version": "3.9.6"
  }
 },
 "nbformat": 4,
 "nbformat_minor": 5
}
